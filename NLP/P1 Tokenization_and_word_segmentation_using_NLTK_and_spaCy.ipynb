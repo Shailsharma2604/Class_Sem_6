{
  "nbformat": 4,
  "nbformat_minor": 0,
  "metadata": {
    "colab": {
      "provenance": []
    },
    "kernelspec": {
      "name": "python3",
      "display_name": "Python 3"
    },
    "language_info": {
      "name": "python"
    }
  },
  "cells": [
    {
      "cell_type": "code",
      "execution_count": null,
      "metadata": {
        "id": "zwRYVDzaNipu"
      },
      "outputs": [],
      "source": []
    },
    {
      "cell_type": "markdown",
      "source": [
        "Tokenization and word segmentation using NLTK and spaCy"
      ],
      "metadata": {
        "id": "Fpf7DD86Nor4"
      }
    },
    {
      "cell_type": "code",
      "source": [],
      "metadata": {
        "id": "5wv_RgAmNpOg"
      },
      "execution_count": null,
      "outputs": []
    },
    {
      "cell_type": "markdown",
      "source": [
        "Steps for Practical:\n",
        "\n",
        "Tokenization with NLTK:\n",
        "\n",
        "Import the NLTK library and download the required datasets (e.g., punkt).\n",
        "\n",
        "Perform word and sentence tokenization on a sample text using word_tokenize and sent_tokenize functions.\n",
        "\n",
        "Display the results."
      ],
      "metadata": {
        "id": "sq5dQSWSNt64"
      }
    },
    {
      "cell_type": "markdown",
      "source": [
        "#TASK **find out about Punkt_tab dataset from NLTK**"
      ],
      "metadata": {
        "id": "rRaqsBRrOzVg"
      }
    },
    {
      "cell_type": "code",
      "source": [
        "import nltk\n",
        "from nltk.tokenize import word_tokenize, sent_tokenize\n",
        "\n",
        "nltk.download('punkt_tab')\n",
        "\n",
        "text = \"Natural Language Processing is an amazing field.and the Tokenization is the first step in text preprocessing.\"\n",
        "print(\"Word Tokenization:\", word_tokenize(text))\n",
        "print(\"Sentence Tokenization:\", sent_tokenize(text))"
      ],
      "metadata": {
        "colab": {
          "base_uri": "https://localhost:8080/"
        },
        "id": "gFmyEZbeNvoM",
        "outputId": "c90dae92-a864-4c1f-8617-bf52de3f3fb1"
      },
      "execution_count": 3,
      "outputs": [
        {
          "output_type": "stream",
          "name": "stdout",
          "text": [
            "Word Tokenization: ['Natural', 'Language', 'Processing', 'is', 'an', 'amazing', 'field.and', 'the', 'Tokenization', 'is', 'the', 'first', 'step', 'in', 'text', 'preprocessing', '.']\n",
            "Sentence Tokenization: ['Natural Language Processing is an amazing field.and the Tokenization is the first step in text preprocessing.']\n"
          ]
        },
        {
          "output_type": "stream",
          "name": "stderr",
          "text": [
            "[nltk_data] Downloading package punkt_tab to /root/nltk_data...\n",
            "[nltk_data]   Package punkt_tab is already up-to-date!\n"
          ]
        }
      ]
    },
    {
      "cell_type": "code",
      "source": [],
      "metadata": {
        "id": "P8__0HWZOBqg"
      },
      "execution_count": null,
      "outputs": []
    },
    {
      "cell_type": "markdown",
      "source": [
        "Tokenization and Segmentation with spaCy:\n",
        "\n",
        "Install and load spaCy’s English model.\n",
        "\n",
        "Use spaCy’s nlp object to tokenize text into words and sentences.\n",
        "\n",
        "Explore spaCy’s Doc, Token, and Span objects for advanced segmentation."
      ],
      "metadata": {
        "id": "JdBA7YPgOdqh"
      }
    },
    {
      "cell_type": "code",
      "source": [
        "import spacy\n",
        "\n",
        "# Load spaCy's English model\n",
        "nlp = spacy.load(\"en_core_web_sm\")\n",
        "\n",
        "# Input text\n",
        "text = \"Natural Language Processing is an exciting field. Tokenization is the first step in text preprocessing.\"\n",
        "\n",
        "# Process the text\n",
        "doc = nlp(text)\n",
        "\n",
        "# Tokenization\n",
        "print(\"Tokens:\", [token.text for token in doc])\n",
        "\n",
        "# Sentence segmentation\n",
        "print(\"Sentences:\", [sent.text for sent in doc.sents])"
      ],
      "metadata": {
        "colab": {
          "base_uri": "https://localhost:8080/"
        },
        "id": "S-mn9oDTOeRW",
        "outputId": "a3f97019-43ca-40b8-b8fe-676f0ce8e28f"
      },
      "execution_count": 4,
      "outputs": [
        {
          "output_type": "stream",
          "name": "stdout",
          "text": [
            "Tokens: ['Natural', 'Language', 'Processing', 'is', 'an', 'exciting', 'field', '.', 'Tokenization', 'is', 'the', 'first', 'step', 'in', 'text', 'preprocessing', '.']\n",
            "Sentences: ['Natural Language Processing is an exciting field.', 'Tokenization is the first step in text preprocessing.']\n"
          ]
        }
      ]
    },
    {
      "cell_type": "code",
      "source": [],
      "metadata": {
        "id": "SoObvL-nOjc_"
      },
      "execution_count": null,
      "outputs": []
    }
  ]
}