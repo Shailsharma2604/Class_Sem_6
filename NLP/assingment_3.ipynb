{
 "cells": [
  {
   "cell_type": "markdown",
   "metadata": {},
   "source": [
    "dataset for Sentiment Analysis using SVM. We will use the SMS Spam Collection dataset, which contains messages labeled as either \"ham\" (non-spam) or \"spam\". This dataset is a popular choice for text classification tasks.\n",
    "Steps:\n",
    "Load the SMS Spam Collection dataset.\n",
    "Preprocess the text data (lowercasing, removing stopwords).\n",
    "Train the SVM model.\n",
    "Evaluate the model.\n",
    "We will load the dataset from a CSV file, preprocess the text, vectorize it, and then train the SVM model to classify the messages as spam or non-spam."
   ]
  },
  {
   "cell_type": "code",
   "execution_count": 2,
   "metadata": {},
   "outputs": [
    {
     "name": "stdout",
     "output_type": "stream",
     "text": [
      "Accuracy: 0.9776\n",
      "Classification Report:\n",
      "               precision    recall  f1-score   support\n",
      "\n",
      "           0       0.98      1.00      0.99       966\n",
      "           1       0.98      0.85      0.91       149\n",
      "\n",
      "    accuracy                           0.98      1115\n",
      "   macro avg       0.98      0.92      0.95      1115\n",
      "weighted avg       0.98      0.98      0.98      1115\n",
      "\n"
     ]
    }
   ],
   "source": [
    "import pandas as pd\n",
    "import string\n",
    "from sklearn.feature_extraction.text import TfidfVectorizer\n",
    "from sklearn.model_selection import train_test_split\n",
    "from sklearn.svm import SVC\n",
    "from sklearn.metrics import accuracy_score, classification_report\n",
    "\n",
    "# Load the dataset\n",
    "file_path = \"spam.xlsx\"  # Ensure the file is in the correct directory\n",
    "df = pd.read_excel(file_path)\n",
    "\n",
    "df = df.rename(columns={\"v1\": \"label\", \"v2\": \"message\"})\n",
    "df = df[[\"label\", \"message\"]]  # Keep only relevant columns\n",
    "\n",
    "df[\"message\"] = df[\"message\"].astype(str)  # Ensure all messages are strings\n",
    "df[\"label\"] = df[\"label\"].map({\"spam\": 1, \"ham\": 0})  # Convert labels to binary\n",
    "\n",
    "# Predefined stopwords list\n",
    "custom_stopwords = set([\"i\", \"me\", \"my\", \"we\", \"our\", \"you\", \"your\", \"he\", \"she\", \"it\", \"they\", \"them\", \"this\", \"that\", \"is\", \"are\", \"was\", \"were\", \"be\", \"been\", \"have\", \"has\", \"had\", \"do\", \"does\", \"did\", \"a\", \"an\", \"the\", \"and\", \"but\", \"if\", \"or\", \"because\", \"as\", \"until\", \"with\", \"about\", \"between\", \"to\", \"from\", \"up\", \"down\", \"in\", \"out\", \"on\", \"off\", \"over\", \"under\", \"again\", \"further\", \"then\", \"once\", \"here\", \"there\", \"when\", \"where\", \"why\", \"how\", \"all\", \"any\", \"both\", \"each\", \"more\", \"most\", \"some\", \"such\", \"no\", \"nor\", \"not\", \"only\", \"own\", \"same\", \"so\", \"than\", \"too\", \"very\", \"s\", \"t\", \"can\", \"will\", \"just\", \"don\", \"should\", \"now\"])\n",
    "\n",
    "# Function to preprocess text\n",
    "def preprocess_text(text):\n",
    "    text = text.lower()\n",
    "    text = text.translate(str.maketrans(\"\", \"\", string.punctuation))\n",
    "    text = \" \".join([word for word in text.split() if word not in custom_stopwords])\n",
    "    return text\n",
    "\n",
    "df[\"cleaned_message\"] = df[\"message\"].apply(preprocess_text)\n",
    "\n",
    "# Convert text to TF-IDF vectors\n",
    "vectorizer = TfidfVectorizer()\n",
    "X = vectorizer.fit_transform(df[\"cleaned_message\"])\n",
    "y = df[\"label\"]\n",
    "\n",
    "# Split the dataset\n",
    "X_train, X_test, y_train, y_test = train_test_split(X, y, test_size=0.2, random_state=42, stratify=y)\n",
    "\n",
    "# Train the SVM model\n",
    "svm_model = SVC(kernel=\"linear\")\n",
    "svm_model.fit(X_train, y_train)\n",
    "\n",
    "# Make predictions\n",
    "y_pred = svm_model.predict(X_test)\n",
    "\n",
    "# Evaluate the model\n",
    "accuracy = accuracy_score(y_test, y_pred)\n",
    "classification_rep = classification_report(y_test, y_pred)\n",
    "\n",
    "print(f\"Accuracy: {accuracy:.4f}\")\n",
    "print(\"Classification Report:\\n\", classification_rep)"
   ]
  },
  {
   "cell_type": "code",
   "execution_count": null,
   "metadata": {},
   "outputs": [],
   "source": []
  }
 ],
 "metadata": {
  "kernelspec": {
   "display_name": "Python 3",
   "language": "python",
   "name": "python3"
  },
  "language_info": {
   "codemirror_mode": {
    "name": "ipython",
    "version": 3
   },
   "file_extension": ".py",
   "mimetype": "text/x-python",
   "name": "python",
   "nbconvert_exporter": "python",
   "pygments_lexer": "ipython3",
   "version": "3.11.0"
  }
 },
 "nbformat": 4,
 "nbformat_minor": 2
}
