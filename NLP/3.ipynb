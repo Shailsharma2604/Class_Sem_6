{
 "cells": [
  {
   "cell_type": "code",
   "execution_count": 9,
   "metadata": {},
   "outputs": [],
   "source": [
    "import pandas as pd\n",
    "import numpy as np\n",
    "import re\n",
    "import string\n",
    "import nltk\n",
    "from nltk.corpus import stopwords\n",
    "from nltk.tokenize import word_tokenize\n",
    "from nltk.stem import WordNetLemmatizer\n",
    "from sklearn.model_selection import train_test_split\n",
    "from wordcloud import WordCloud\n",
    "import matplotlib.pyplot as plt"
   ]
  },
  {
   "cell_type": "code",
   "execution_count": 10,
   "metadata": {},
   "outputs": [],
   "source": [
    "data={\n",
    "    \"text\": [\n",
    "        \"I love this product! Best purchase ever.🤣 #happy\",\n",
    "        \"Terrible service... never coming back! @Company\",\n",
    "        \"Check out our website for amazing deals: https://example.com\",\n",
    "        \"Product arrived late, but quality is great. 🤞🤞Thanks!\",\n",
    "        \"Why is this app so slow? Fix it! afrustrated✌\",\n",
    "        \"Amazing experience! Highly recommend this place.⭐⭐⭐⭐⭐⭐\",\n",
    "        \"Horrible! Totally waste of money.😊👍✌\",\n",
    "        \"Superb customer servicel Keep it up. 👍👍@Support Team\",\n",
    "        \"Great value for money. will buy again! #satisfied\",\n",
    "        \"Disappointed with the packaging. Could be better.⭐\",\n",
    "\n",
    "    ],\n",
    "    \"label\" : [\n",
    "         \"positive\", \"negative\", \"neutral\", \"positive\", \"negative\",\n",
    "         \"positive\", \"negative\", \"positive\", \"positive\",\"negative\"\n",
    "    ]\n",
    "}"
   ]
  },
  {
   "cell_type": "code",
   "execution_count": 11,
   "metadata": {},
   "outputs": [],
   "source": [
    "df=pd.DataFrame(data)\n",
    "df.to_csv('data.csv',index=False)"
   ]
  },
  {
   "cell_type": "code",
   "execution_count": 12,
   "metadata": {},
   "outputs": [
    {
     "data": {
      "text/html": [
       "<div>\n",
       "<style scoped>\n",
       "    .dataframe tbody tr th:only-of-type {\n",
       "        vertical-align: middle;\n",
       "    }\n",
       "\n",
       "    .dataframe tbody tr th {\n",
       "        vertical-align: top;\n",
       "    }\n",
       "\n",
       "    .dataframe thead th {\n",
       "        text-align: right;\n",
       "    }\n",
       "</style>\n",
       "<table border=\"1\" class=\"dataframe\">\n",
       "  <thead>\n",
       "    <tr style=\"text-align: right;\">\n",
       "      <th></th>\n",
       "      <th>text</th>\n",
       "      <th>label</th>\n",
       "    </tr>\n",
       "  </thead>\n",
       "  <tbody>\n",
       "    <tr>\n",
       "      <th>0</th>\n",
       "      <td>I love this product! Best purchase ever.🤣 #happy</td>\n",
       "      <td>positive</td>\n",
       "    </tr>\n",
       "    <tr>\n",
       "      <th>1</th>\n",
       "      <td>Terrible service... never coming back! @Company</td>\n",
       "      <td>negative</td>\n",
       "    </tr>\n",
       "    <tr>\n",
       "      <th>2</th>\n",
       "      <td>Check out our website for amazing deals: https...</td>\n",
       "      <td>neutral</td>\n",
       "    </tr>\n",
       "    <tr>\n",
       "      <th>3</th>\n",
       "      <td>Product arrived late, but quality is great. 🤞🤞...</td>\n",
       "      <td>positive</td>\n",
       "    </tr>\n",
       "    <tr>\n",
       "      <th>4</th>\n",
       "      <td>Why is this app so slow? Fix it! afrustrated✌</td>\n",
       "      <td>negative</td>\n",
       "    </tr>\n",
       "    <tr>\n",
       "      <th>5</th>\n",
       "      <td>Amazing experience! Highly recommend this plac...</td>\n",
       "      <td>positive</td>\n",
       "    </tr>\n",
       "    <tr>\n",
       "      <th>6</th>\n",
       "      <td>Horrible! Totally waste of money.😊👍✌</td>\n",
       "      <td>negative</td>\n",
       "    </tr>\n",
       "    <tr>\n",
       "      <th>7</th>\n",
       "      <td>Superb customer servicel Keep it up. 👍👍@Suppor...</td>\n",
       "      <td>positive</td>\n",
       "    </tr>\n",
       "    <tr>\n",
       "      <th>8</th>\n",
       "      <td>Great value for money. will buy again! #satisfied</td>\n",
       "      <td>positive</td>\n",
       "    </tr>\n",
       "    <tr>\n",
       "      <th>9</th>\n",
       "      <td>Disappointed with the packaging. Could be bett...</td>\n",
       "      <td>negative</td>\n",
       "    </tr>\n",
       "  </tbody>\n",
       "</table>\n",
       "</div>"
      ],
      "text/plain": [
       "                                                text     label\n",
       "0   I love this product! Best purchase ever.🤣 #happy  positive\n",
       "1    Terrible service... never coming back! @Company  negative\n",
       "2  Check out our website for amazing deals: https...   neutral\n",
       "3  Product arrived late, but quality is great. 🤞🤞...  positive\n",
       "4      Why is this app so slow? Fix it! afrustrated✌  negative\n",
       "5  Amazing experience! Highly recommend this plac...  positive\n",
       "6               Horrible! Totally waste of money.😊👍✌  negative\n",
       "7  Superb customer servicel Keep it up. 👍👍@Suppor...  positive\n",
       "8  Great value for money. will buy again! #satisfied  positive\n",
       "9  Disappointed with the packaging. Could be bett...  negative"
      ]
     },
     "execution_count": 12,
     "metadata": {},
     "output_type": "execute_result"
    }
   ],
   "source": [
    "data=pd.read_csv('data.csv')\n",
    "data"
   ]
  },
  {
   "cell_type": "code",
   "execution_count": 13,
   "metadata": {},
   "outputs": [
    {
     "data": {
      "text/html": [
       "<div>\n",
       "<style scoped>\n",
       "    .dataframe tbody tr th:only-of-type {\n",
       "        vertical-align: middle;\n",
       "    }\n",
       "\n",
       "    .dataframe tbody tr th {\n",
       "        vertical-align: top;\n",
       "    }\n",
       "\n",
       "    .dataframe thead th {\n",
       "        text-align: right;\n",
       "    }\n",
       "</style>\n",
       "<table border=\"1\" class=\"dataframe\">\n",
       "  <thead>\n",
       "    <tr style=\"text-align: right;\">\n",
       "      <th></th>\n",
       "      <th>text</th>\n",
       "      <th>label</th>\n",
       "    </tr>\n",
       "  </thead>\n",
       "  <tbody>\n",
       "    <tr>\n",
       "      <th>0</th>\n",
       "      <td>I love this product! Best purchase ever.🤣 #happy</td>\n",
       "      <td>positive</td>\n",
       "    </tr>\n",
       "    <tr>\n",
       "      <th>1</th>\n",
       "      <td>Terrible service... never coming back! @Company</td>\n",
       "      <td>negative</td>\n",
       "    </tr>\n",
       "    <tr>\n",
       "      <th>2</th>\n",
       "      <td>Check out our website for amazing deals: https...</td>\n",
       "      <td>neutral</td>\n",
       "    </tr>\n",
       "    <tr>\n",
       "      <th>3</th>\n",
       "      <td>Product arrived late, but quality is great. 🤞🤞...</td>\n",
       "      <td>positive</td>\n",
       "    </tr>\n",
       "    <tr>\n",
       "      <th>4</th>\n",
       "      <td>Why is this app so slow? Fix it! afrustrated✌</td>\n",
       "      <td>negative</td>\n",
       "    </tr>\n",
       "  </tbody>\n",
       "</table>\n",
       "</div>"
      ],
      "text/plain": [
       "                                                text     label\n",
       "0   I love this product! Best purchase ever.🤣 #happy  positive\n",
       "1    Terrible service... never coming back! @Company  negative\n",
       "2  Check out our website for amazing deals: https...   neutral\n",
       "3  Product arrived late, but quality is great. 🤞🤞...  positive\n",
       "4      Why is this app so slow? Fix it! afrustrated✌  negative"
      ]
     },
     "execution_count": 13,
     "metadata": {},
     "output_type": "execute_result"
    }
   ],
   "source": [
    "data.head()"
   ]
  },
  {
   "cell_type": "code",
   "execution_count": 14,
   "metadata": {},
   "outputs": [
    {
     "name": "stdout",
     "output_type": "stream",
     "text": [
      "<class 'pandas.core.frame.DataFrame'>\n",
      "RangeIndex: 10 entries, 0 to 9\n",
      "Data columns (total 2 columns):\n",
      " #   Column  Non-Null Count  Dtype \n",
      "---  ------  --------------  ----- \n",
      " 0   text    10 non-null     object\n",
      " 1   label   10 non-null     object\n",
      "dtypes: object(2)\n",
      "memory usage: 288.0+ bytes\n"
     ]
    }
   ],
   "source": [
    "data.info()"
   ]
  },
  {
   "cell_type": "code",
   "execution_count": 15,
   "metadata": {},
   "outputs": [
    {
     "data": {
      "text/plain": [
       "0     I love this product! Best purchase ever.🤣 #happy\n",
       "1      Terrible service... never coming back! @Company\n",
       "2    Check out our website for amazing deals: https...\n",
       "3    Product arrived late, but quality is great. 🤞🤞...\n",
       "4        Why is this app so slow? Fix it! afrustrated✌\n",
       "Name: text, dtype: object"
      ]
     },
     "execution_count": 15,
     "metadata": {},
     "output_type": "execute_result"
    }
   ],
   "source": [
    "data['text'].head()"
   ]
  },
  {
   "cell_type": "code",
   "execution_count": null,
   "metadata": {},
   "outputs": [
    {
     "name": "stderr",
     "output_type": "stream",
     "text": [
      "[nltk_data] Downloading package punkt to\n",
      "[nltk_data]     C:\\Users\\shail\\AppData\\Roaming\\nltk_data...\n",
      "[nltk_data]   Package punkt is already up-to-date!\n",
      "[nltk_data] Downloading package wordnet to\n",
      "[nltk_data]     C:\\Users\\shail\\AppData\\Roaming\\nltk_data...\n",
      "[nltk_data]   Package wordnet is already up-to-date!\n"
     ]
    },
    {
     "data": {
      "text/plain": [
       "0         love product best purchase ever🤣 happy\n",
       "1             terrible service never coming back\n",
       "2                     check website amazing deal\n",
       "3    product arrived late quality great 🤞🤞thanks\n",
       "4                      app slow fix afrustrated✌\n",
       "Name: cleaned_text, dtype: object"
      ]
     },
     "execution_count": 16,
     "metadata": {},
     "output_type": "execute_result"
    }
   ],
   "source": [
    "nltk.download('punkt')  # For word_tokenize\n",
    "nltk.download('wordnet')  # For WordNetLemmatizer\n",
    "\n",
    "\n",
    "stop_words = set(stopwords.words('english'))\n",
    "lemmatizer = WordNetLemmatizer()\n",
    "\n",
    "def clean_text(text):\n",
    "    text = text.lower()\n",
    "    text = re.sub(r'https?:\\/\\/\\S+', '', text)\n",
    "    text = re.sub(r'\\@\\w+', '', text)\n",
    "    text = re.sub(r'#', '', text)\n",
    "    text = re.sub(r'[0-9]+', '', text)\n",
    "    text = text.translate(str.maketrans('', '', string.punctuation))\n",
    "    text = word_tokenize(text)\n",
    "    text = [lemmatizer.lemmatize(word) for word in text if not word in stop_words]\n",
    "    text = ' '.join(text)\n",
    "    return text\n",
    "\n",
    "data['cleaned_text'] = data['text'].apply(clean_text)\n",
    "data['cleaned_text'].head()\n"
   ]
  },
  {
   "cell_type": "code",
   "execution_count": 17,
   "metadata": {},
   "outputs": [
    {
     "name": "stdout",
     "output_type": "stream",
     "text": [
      "                                                text     label\n",
      "0   I love this product! Best purchase ever.🤣 #happy  positive\n",
      "1    Terrible service... never coming back! @Company  negative\n",
      "2  Check out our website for amazing deals: https...   neutral\n",
      "3  Product arrived late, but quality is great. 🤞🤞...  positive\n",
      "4      Why is this app so slow? Fix it! afrustrated✌  negative\n",
      "<class 'pandas.core.frame.DataFrame'>\n",
      "RangeIndex: 10 entries, 0 to 9\n",
      "Data columns (total 2 columns):\n",
      " #   Column  Non-Null Count  Dtype \n",
      "---  ------  --------------  ----- \n",
      " 0   text    10 non-null     object\n",
      " 1   label   10 non-null     object\n",
      "dtypes: object(2)\n",
      "memory usage: 288.0+ bytes\n",
      "None\n",
      "                                                    text     label\n",
      "count                                                 10        10\n",
      "unique                                                10         3\n",
      "top     I love this product! Best purchase ever.🤣 #happy  positive\n",
      "freq                                                   1         5\n",
      "text     object\n",
      "label    object\n",
      "dtype: object\n",
      "text     0\n",
      "label    0\n",
      "dtype: int64\n"
     ]
    },
    {
     "data": {
      "image/png": "[encoded data removed]",
      "text/plain": [
       "<Figure size 800x600 with 1 Axes>"
      ]
     },
     "metadata": {},
     "output_type": "display_data"
    },
    {
     "name": "stdout",
     "output_type": "stream",
     "text": [
      "An unexpected error occurred: zero-size array to reduction operation fmin which has no identity\n"
     ]
    },
    {
     "data": {
      "text/plain": [
       "<Figure size 1000x800 with 0 Axes>"
      ]
     },
     "metadata": {},
     "output_type": "display_data"
    }
   ],
   "source": [
    "# prompt: eda of dataset\n",
    "\n",
    "import pandas as pd\n",
    "import matplotlib.pyplot as plt\n",
    "import seaborn as sns\n",
    "\n",
    "# Assuming 'data.csv' is in the current working directory or provide the correct path\n",
    "try:\n",
    "    data = pd.read_csv(\"data.csv\")\n",
    "\n",
    "    # Display basic information\n",
    "    print(data.head())\n",
    "    print(data.info())\n",
    "    print(data.describe())\n",
    "\n",
    "    # Explore data types\n",
    "    print(data.dtypes)\n",
    "\n",
    "    # Check for missing values\n",
    "    print(data.isnull().sum())\n",
    "\n",
    "    # Visualize data distribution (example for numerical columns)\n",
    "    numerical_cols = data.select_dtypes(include=['number'])\n",
    "    for col in numerical_cols.columns:\n",
    "        plt.figure(figsize=(8, 6))\n",
    "        sns.histplot(data[col], kde=True)\n",
    "        plt.title(f'Distribution of {col}')\n",
    "        plt.show()\n",
    "\n",
    "\n",
    "    # Visualize categorical data (example for 'label' column)\n",
    "    plt.figure(figsize=(8, 6))\n",
    "    sns.countplot(x='label', data=data)\n",
    "    plt.title('Distribution of Labels')\n",
    "    plt.show()\n",
    "\n",
    "\n",
    "    # Correlation matrix (for numerical features)\n",
    "    correlation_matrix = numerical_cols.corr()\n",
    "    plt.figure(figsize=(10, 8))\n",
    "    sns.heatmap(correlation_matrix, annot=True, cmap='coolwarm')\n",
    "    plt.title('Correlation Matrix')\n",
    "    plt.show()\n",
    "\n",
    "except FileNotFoundError:\n",
    "    print(\"Error: 'data.csv' not found. Please make sure the file exists in the correct location.\")\n",
    "except pd.errors.ParserError:\n",
    "    print(\"Error: Could not parse 'data.csv'. Please check the file format.\")\n",
    "except Exception as e:\n",
    "    print(f\"An unexpected error occurred: {e}\")"
   ]
  },
  {
   "cell_type": "code",
   "execution_count": 29,
   "metadata": {},
   "outputs": [
    {
     "name": "stdout",
     "output_type": "stream",
     "text": [
      "['love product best thing ive ever bought', 'worst purchase ever regret much waste money', 'amazing quality great price buy highly recommend', 'okay expected product good great', 'check site info', 'great product highly recommend', 'issue product customer service helpful']\n"
     ]
    }
   ],
   "source": [
    "reviews = [\n",
    "    \"I LOVE this product! It's the best thing I've ever bought. :)\",\n",
    "    \"Worst purchase ever!!! I regret it so much. Waste of money!\",\n",
    "    \"Amazing quality. Great price. Will buy again! Highly recommend!!!\",\n",
    "    \"Okay, but not what I expected. The product is good, but not great.\",\n",
    "    \"Check out our site at https://www.product.com for more info.\",\n",
    "    \"This is a great product for $50. I highly recommend it!\",\n",
    "    \"Had issues with the product... but customer service was helpful.\"\n",
    "]\n",
    "\n",
    "\n",
    "def clean_review(text):\n",
    "    text = text.lower()\n",
    "    text = re.sub(r'https?:\\/\\/\\S+', '', text)\n",
    "    text = re.sub(r'\\@\\w+', '', text)\n",
    "    text = re.sub(r'#', '', text)\n",
    "    text = re.sub(r'[0-9]+', '', text)\n",
    "    text = text.translate(str.maketrans('', '', string.punctuation))\n",
    "    text = word_tokenize(text)\n",
    "    text = [lemmatizer.lemmatize(word) for word in text if not word in stop_words]\n",
    "    text = ' '.join(text)\n",
    "    return text\n",
    "\n",
    "\n",
    "cleaned_reviews = [clean_review(review) for review in reviews]\n",
    "\n",
    "print(cleaned_reviews)"
   ]
  },
  {
   "cell_type": "code",
   "execution_count": 35,
   "metadata": {},
   "outputs": [
    {
     "name": "stdout",
     "output_type": "stream",
     "text": [
      "\n",
      "Cleaned reviews (default settings):\n",
      "\n",
      "Original: I LOVE this product! It's the best thing I have bought. :)\n",
      "Cleaned:  love product best thing bought positive\n",
      "\n",
      "Original: Worst purchase ever!!! I regret it so much. Waste of money!\n",
      "Cleaned:  worst purchase ever regret much waste money\n",
      "\n",
      "Original: Amazing quality. Great price. Will buy again! Highly recommend!!!\n",
      "Cleaned:  amazing quality great price buy highly recommend\n",
      "\n",
      "Original: Okay, but not what I expected. The product is good, but not great.\n",
      "Cleaned:  okay expected product good great\n",
      "\n",
      "Original: Check out our site at https://www.product.com for more info.\n",
      "Cleaned:  check site info\n",
      "\n",
      "Original: This is a great product for $50. I highly recommend it!\n",
      "Cleaned:  great product highly recommend\n",
      "\n",
      "Original: Had issues with the product... but customer service was helpful.\n",
      "Cleaned:  issues product customer service helpful\n",
      "\n",
      "Cleaned reviews (keeping stopwords):\n",
      "\n",
      "Original: I LOVE this product! It's the best thing I have bought. :)\n",
      "Cleaned:  i love this product it the best thing i have bought positive\n",
      "\n",
      "Original: Worst purchase ever!!! I regret it so much. Waste of money!\n",
      "Cleaned:  worst purchase ever i regret it so much waste of money\n",
      "\n",
      "Original: Amazing quality. Great price. Will buy again! Highly recommend!!!\n",
      "Cleaned:  amazing quality great price will buy again highly recommend\n",
      "\n",
      "Original: Okay, but not what I expected. The product is good, but not great.\n",
      "Cleaned:  okay but not what i expected the product is good but not great\n",
      "\n",
      "Original: Check out our site at https://www.product.com for more info.\n",
      "Cleaned:  check out our site at for more info\n",
      "\n",
      "Original: This is a great product for $50. I highly recommend it!\n",
      "Cleaned:  this is a great product for i highly recommend it\n",
      "\n",
      "Original: Had issues with the product... but customer service was helpful.\n",
      "Cleaned:  had issues with the product but customer service was helpful\n"
     ]
    }
   ],
   "source": [
    "import re\n",
    "from nltk.corpus import stopwords\n",
    "from typing import List\n",
    "\n",
    "def clean_reviews(reviews: List[str], remove_stopwords: bool = True, \n",
    "                 remove_numbers: bool = True) -> List[str]:\n",
    "    \"\"\"\n",
    "    Clean and preprocess review texts with configurable options.\n",
    "    \n",
    "    Args:\n",
    "        reviews (List[str]): List of review texts to clean\n",
    "        remove_stopwords (bool): Whether to remove stopwords (default: True)\n",
    "        remove_numbers (bool): Whether to remove numbers (default: True)\n",
    "    \n",
    "    Returns:\n",
    "        List[str]: List of cleaned review texts\n",
    "    \"\"\"\n",
    "    # Load English stop words if needed\n",
    "    stop_words = set(stopwords.words('english')) if remove_stopwords else set()\n",
    "    \n",
    "    # Common positive/negative emoticons to handle\n",
    "    emoticons = {\n",
    "        'positive': [':)', ':-)', ':D', '=)', ':]', ':}'],\n",
    "        'negative': [':(', ':-(', ':(', '=[', ':[', ':{']\n",
    "    }\n",
    "    \n",
    "    # Compile regex patterns for better performance\n",
    "    url_pattern = re.compile(r'http[s]?://(?:[a-zA-Z]|[0-9]|[$-_@.&+]|[!*\\\\(\\\\),]|(?:%[0-9a-fA-F][0-9a-fA-F]))+')\n",
    "    number_pattern = re.compile(r'\\b\\d+\\b')\n",
    "    space_pattern = re.compile(r'\\s+')\n",
    "    \n",
    "    cleaned_reviews = []\n",
    "    \n",
    "    for review in reviews:\n",
    "        # Convert to lowercase\n",
    "        text = review.lower()\n",
    "        \n",
    "        # Replace emoticons with their meaning\n",
    "        for sentiment, icons in emoticons.items():\n",
    "            for icon in icons:\n",
    "                text = text.replace(icon, f' {sentiment} ')\n",
    "        \n",
    "        # Remove URLs\n",
    "        text = url_pattern.sub('', text)\n",
    "        \n",
    "        # Remove numbers if specified\n",
    "        if remove_numbers:\n",
    "            text = number_pattern.sub('', text)\n",
    "        \n",
    "        # Remove punctuation while preserving contractions\n",
    "        text = re.sub(r'[^\\w\\s\\']', ' ', text)\n",
    "        \n",
    "        # Handle contractions properly\n",
    "        text = re.sub(r'\\'s\\b', '', text)  # remove possessive 's\n",
    "        text = re.sub(r'\\'', '', text)     # remove remaining apostrophes\n",
    "        \n",
    "        # Remove extra whitespace\n",
    "        text = space_pattern.sub(' ', text).strip()\n",
    "        \n",
    "        # Remove stop words if specified\n",
    "        if remove_stopwords:\n",
    "            text = ' '.join(word for word in text.split() \n",
    "                          if word not in stop_words)\n",
    "        \n",
    "        cleaned_reviews.append(text)\n",
    "    \n",
    "    return cleaned_reviews\n",
    "\n",
    "# Example usage\n",
    "if __name__ == \"__main__\":\n",
    "    reviews = [\n",
    "        \"I LOVE this product! It's the best thing I have bought. :)\",\n",
    "        \"Worst purchase ever!!! I regret it so much. Waste of money!\",\n",
    "        \"Amazing quality. Great price. Will buy again! Highly recommend!!!\",\n",
    "        \"Okay, but not what I expected. The product is good, but not great.\",\n",
    "        \"Check out our site at https://www.product.com for more info.\",\n",
    "        \"This is a great product for $50. I highly recommend it!\",\n",
    "        \"Had issues with the product... but customer service was helpful.\"\n",
    "    ]\n",
    "    \n",
    "    # Clean reviews with default settings\n",
    "    cleaned = clean_reviews(reviews)\n",
    "    print(\"\\nCleaned reviews (default settings):\")\n",
    "    for original, cleaned_text in zip(reviews, cleaned):\n",
    "        print(f\"\\nOriginal: {original}\")\n",
    "        print(f\"Cleaned:  {cleaned_text}\")\n",
    "    \n",
    "    # Clean reviews keeping stopwords\n",
    "    cleaned_with_stopwords = clean_reviews(reviews, remove_stopwords=False)\n",
    "    print(\"\\nCleaned reviews (keeping stopwords):\")\n",
    "    for original, cleaned_text in zip(reviews, cleaned_with_stopwords):\n",
    "        print(f\"\\nOriginal: {original}\")\n",
    "        print(f\"Cleaned:  {cleaned_text}\")"
   ]
  },
  {
   "cell_type": "code",
   "execution_count": null,
   "metadata": {},
   "outputs": [],
   "source": []
  },
  {
   "cell_type": "code",
   "execution_count": null,
   "metadata": {},
   "outputs": [],
   "source": []
  }
 ],
 "metadata": {
  "kernelspec": {
   "display_name": "Python 3",
   "language": "python",
   "name": "python3"
  },
  "language_info": {
   "codemirror_mode": {
    "name": "ipython",
    "version": 3
   },
   "file_extension": ".py",
   "mimetype": "text/x-python",
   "name": "python",
   "nbconvert_exporter": "python",
   "pygments_lexer": "ipython3",
   "version": "3.11.0"
  }
 },
 "nbformat": 4,
 "nbformat_minor": 2
}
