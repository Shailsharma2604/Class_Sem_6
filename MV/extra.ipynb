{
 "cells": [
  {
   "cell_type": "code",
   "execution_count": 1,
   "metadata": {},
   "outputs": [
    {
     "name": "stdout",
     "output_type": "stream",
     "text": [
      "You entered: how are you\n"
     ]
    }
   ],
   "source": [
    "# Taking one line string input\n",
    "input_line = input(\"Enter a line of text: \")\n",
    "print(\"You entered:\", input_line)"
   ]
  },
  {
   "cell_type": "code",
   "execution_count": 1,
   "metadata": {},
   "outputs": [
    {
     "name": "stdout",
     "output_type": "stream",
     "text": [
      "Subject: you\n",
      "Verb: do\n",
      "You entered: hey how do you do\n"
     ]
    }
   ],
   "source": [
    "import spacy\n",
    "\n",
    "# Load the English NLP model\n",
    "input_line = input(\"Enter a line of text: \")\n",
    "nlp = spacy.load(\"en_core_web_sm\")\n",
    "\n",
    "# Process the input line\n",
    "doc = nlp(input_line)\n",
    "\n",
    "# Extract subject and verb\n",
    "subject = None\n",
    "verb = None\n",
    "\n",
    "for token in doc:\n",
    "    if token.dep_ == \"nsubj\":\n",
    "        subject = token.text\n",
    "    if token.pos_ == \"VERB\":\n",
    "        verb = token.text\n",
    "\n",
    "print(\"Subject:\", subject)\n",
    "print(\"Verb:\", verb)\n",
    "print(\"You entered:\", input_line)"
   ]
  },
  {
   "cell_type": "code",
   "execution_count": null,
   "metadata": {},
   "outputs": [],
   "source": []
  },
  {
   "cell_type": "code",
   "execution_count": null,
   "metadata": {},
   "outputs": [],
   "source": []
  }
 ],
 "metadata": {
  "kernelspec": {
   "display_name": "Python 3",
   "language": "python",
   "name": "python3"
  },
  "language_info": {
   "codemirror_mode": {
    "name": "ipython",
    "version": 3
   },
   "file_extension": ".py",
   "mimetype": "text/x-python",
   "name": "python",
   "nbconvert_exporter": "python",
   "pygments_lexer": "ipython3",
   "version": "3.11.0"
  }
 },
 "nbformat": 4,
 "nbformat_minor": 2
}
