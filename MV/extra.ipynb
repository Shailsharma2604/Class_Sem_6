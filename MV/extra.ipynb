{
 "cells": [
  {
   "cell_type": "code",
   "execution_count": 6,
   "metadata": {},
   "outputs": [
    {
     "name": "stdout",
     "output_type": "stream",
     "text": [
      "You entered: the quick brown fox jumps over lary dog\n"
     ]
    }
   ],
   "source": [
    "# Taking one line string input\n",
    "input_line = input(\"Enter a line of text: \")\n",
    "print(\"You entered:\", input_line)"
   ]
  },
  {
   "cell_type": "code",
   "execution_count": 7,
   "metadata": {},
   "outputs": [
    {
     "name": "stdout",
     "output_type": "stream",
     "text": [
      "Subject: fox\n",
      "Verb: jumps\n",
      "You entered: the quick brown fox jumps over lary dog\n"
     ]
    }
   ],
   "source": [
    "import spacy\n",
    "\n",
    "# Load the English NLP model\n",
    "input_line = input(\"Enter a line of text: \")\n",
    "nlp = spacy.load(\"en_core_web_sm\")\n",
    "\n",
    "# Process the input line\n",
    "doc = nlp(input_line)\n",
    "\n",
    "# Extract subject and verb\n",
    "subject = None\n",
    "verb = None\n",
    "\n",
    "for token in doc:\n",
    "    if token.dep_ == \"nsubj\":\n",
    "        subject = token.text\n",
    "    if token.pos_ == \"VERB\":\n",
    "        verb = token.text\n",
    "\n",
    "print(\"Subject:\", subject)\n",
    "print(\"Verb:\", verb)\n",
    "print(\"You entered:\", input_line)"
   ]
  },
  {
   "cell_type": "code",
   "execution_count": 8,
   "metadata": {},
   "outputs": [
    {
     "name": "stdout",
     "output_type": "stream",
     "text": [
      "Subject: fox\n",
      "Verb: jumps\n",
      "Adverb: None\n",
      "You entered: the quick brown fox jumps over lary dog\n"
     ]
    }
   ],
   "source": [
    "import spacy\n",
    "\n",
    "# Load the English NLP model\n",
    "input_line = input(\"Enter a line of text: \")\n",
    "nlp = spacy.load(\"en_core_web_sm\")\n",
    "\n",
    "# Process the input line\n",
    "doc = nlp(input_line)\n",
    "\n",
    "# Extract subject, verb, and adverb\n",
    "subject = None\n",
    "verb = None\n",
    "adverb = None\n",
    "\n",
    "for token in doc:\n",
    "    if token.dep_ == \"nsubj\":\n",
    "        subject = token.text\n",
    "    if token.pos_ == \"VERB\":\n",
    "        verb = token.text\n",
    "    if token.pos_ == \"ADV\":\n",
    "        adverb = token.text\n",
    "\n",
    "print(\"Subject:\", subject)\n",
    "print(\"Verb:\", verb)\n",
    "print(\"Adverb:\", adverb)\n",
    "print(\"You entered:\", input_line)"
   ]
  },
  {
   "cell_type": "code",
   "execution_count": 9,
   "metadata": {},
   "outputs": [
    {
     "name": "stdout",
     "output_type": "stream",
     "text": [
      "Subject: fox\n",
      "Verb: jumps\n",
      "Adverb: None\n",
      "Article: the\n",
      "You entered: the quick brown fox jumps over lary dog\n"
     ]
    }
   ],
   "source": [
    "import spacy\n",
    "\n",
    "# Load the English NLP model\n",
    "input_line = input(\"Enter a line of text: \")\n",
    "nlp = spacy.load(\"en_core_web_sm\")\n",
    "\n",
    "# Process the input line\n",
    "doc = nlp(input_line)\n",
    "\n",
    "# Extract subject, verb, adverb, and article\n",
    "subject = None\n",
    "verb = None\n",
    "adverb = None\n",
    "article = None\n",
    "\n",
    "for token in doc:\n",
    "    if token.dep_ == \"nsubj\":\n",
    "        subject = token.text\n",
    "    if token.pos_ == \"VERB\":\n",
    "        verb = token.text\n",
    "    if token.pos_ == \"ADV\":\n",
    "        adverb = token.text\n",
    "    if token.pos_ == \"DET\":\n",
    "        article = token.text\n",
    "\n",
    "print(\"Subject:\", subject)\n",
    "print(\"Verb:\", verb)\n",
    "print(\"Adverb:\", adverb)\n",
    "print(\"Article:\", article)\n",
    "print(\"You entered:\", input_line)"
   ]
  },
  {
   "cell_type": "code",
   "execution_count": null,
   "metadata": {},
   "outputs": [],
   "source": []
  }
 ],
 "metadata": {
  "kernelspec": {
   "display_name": "Python 3",
   "language": "python",
   "name": "python3"
  },
  "language_info": {
   "codemirror_mode": {
    "name": "ipython",
    "version": 3
   },
   "file_extension": ".py",
   "mimetype": "text/x-python",
   "name": "python",
   "nbconvert_exporter": "python",
   "pygments_lexer": "ipython3",
   "version": "3.11.0"
  }
 },
 "nbformat": 4,
 "nbformat_minor": 2
}
