{
 "cells": [
  {
   "cell_type": "code",
   "execution_count": 3,
   "metadata": {},
   "outputs": [
    {
     "name": "stdout",
     "output_type": "stream",
     "text": [
      "Sentiment Analysis Result: {'neg': 0.0, 'neu': 0.772, 'pos': 0.228, 'compound': 0.7351}\n"
     ]
    },
    {
     "name": "stderr",
     "output_type": "stream",
     "text": [
      "[nltk_data] Downloading package vader_lexicon to\n",
      "[nltk_data]     C:\\Users\\shail\\AppData\\Roaming\\nltk_data...\n",
      "[nltk_data]   Package vader_lexicon is already up-to-date!\n"
     ]
    }
   ],
   "source": [
    "import nltk\n",
    "from nltk.sentiment import SentimentIntensityAnalyzer\n",
    "\n",
    "def analyze_sentiment(text):\n",
    "    nltk.download('vader_lexicon')\n",
    "    sia = SentimentIntensityAnalyzer()\n",
    "    sentiment_scores = sia.polarity_scores(text)\n",
    "    return sentiment_scores\n",
    "\n",
    "# Example: Extracted text from a poem\n",
    "poem_text = \"The sun doth climb, a golden eye, To greet the dawn, where shadows lie.The birds awake, their voices ring,A joyful song the breezes bring\"\n",
    "\n",
    "# Perform sentiment analysis\n",
    "sentiment_result = analyze_sentiment(poem_text)\n",
    "print(\"Sentiment Analysis Result:\", sentiment_result)"
   ]
  },
  {
   "cell_type": "code",
   "execution_count": 1,
   "metadata": {},
   "outputs": [
    {
     "name": "stdout",
     "output_type": "stream",
     "text": [
      "Sentiment: Negative, Score: -0.74\n"
     ]
    },
    {
     "name": "stderr",
     "output_type": "stream",
     "text": [
      "[nltk_data] Downloading package vader_lexicon to\n",
      "[nltk_data]     C:\\Users\\shail\\AppData\\Roaming\\nltk_data...\n",
      "[nltk_data]   Package vader_lexicon is already up-to-date!\n"
     ]
    }
   ],
   "source": [
    "from nltk.sentiment import SentimentIntensityAnalyzer\n",
    "import nltk\n",
    "\n",
    "# Download the VADER lexicon if not already present\n",
    "nltk.download('vader_lexicon')\n",
    "\n",
    "def analyze_sentiment(poem_text):\n",
    "    try:\n",
    "        # Initialize VADER SentimentIntensityAnalyzer\n",
    "        sia = SentimentIntensityAnalyzer()\n",
    "        \n",
    "        # Perform sentiment analysis\n",
    "        sentiment_scores = sia.polarity_scores(poem_text)\n",
    "        \n",
    "        # Determine sentiment based on compound score\n",
    "        compound_score = sentiment_scores['compound']\n",
    "        if compound_score >= 0.05:\n",
    "            print(f\"Sentiment: Positive, Score: {compound_score:.2f}\")\n",
    "        elif compound_score <= -0.05:\n",
    "            print(f\"Sentiment: Negative, Score: {compound_score:.2f}\")\n",
    "        else:\n",
    "            print(f\"Sentiment: Neutral, Score: {compound_score:.2f}\")\n",
    "    \n",
    "    except Exception as e:\n",
    "        print(f\"Error: {e}\")\n",
    "\n",
    "# Example 14th-century poem (input)\n",
    "poem = \"\"\"\n",
    "With double sorrow oft renew’d,\n",
    "Her sighs did shake the silent air;\n",
    "That pity each their strife subdu’d,\n",
    "And silence taught her how to spare.\n",
    "\"\"\"\n",
    "\n",
    "analyze_sentiment(poem)"
   ]
  },
  {
   "cell_type": "code",
   "execution_count": 2,
   "metadata": {},
   "outputs": [
    {
     "name": "stdout",
     "output_type": "stream",
     "text": [
      "Sentiment Analysis Result: {'neg': 0.173, 'neu': 0.515, 'pos': 0.312, 'compound': 0.4678}\n",
      "Detected Emojis: ['😊', '😡']\n",
      "Adjusted Compound Score: 0.16779999999999995 😊\n"
     ]
    },
    {
     "name": "stderr",
     "output_type": "stream",
     "text": [
      "[nltk_data] Downloading package vader_lexicon to\n",
      "[nltk_data]     C:\\Users\\shail\\AppData\\Roaming\\nltk_data...\n",
      "[nltk_data]   Package vader_lexicon is already up-to-date!\n"
     ]
    }
   ],
   "source": [
    "import nltk\n",
    "from nltk.sentiment import SentimentIntensityAnalyzer\n",
    "import emoji\n",
    "\n",
    "# Download VADER lexicon\n",
    "nltk.download('vader_lexicon')\n",
    "\n",
    "sia = SentimentIntensityAnalyzer()\n",
    "\n",
    "\n",
    "emoji_sentiments = {\n",
    "    \"😊\": 0.5, \"😃\": 0.6, \"😁\": 0.7, \"😂\": 0.8, \"😍\": 0.9,\n",
    "    \"😐\": 0.0, \"😕\": -0.3, \"😞\": -0.5, \"😢\": -0.7, \"😡\": -0.8\n",
    "}\n",
    "\n",
    "def analyze_sentiment(text):\n",
    "    sentiment_scores = sia.polarity_scores(text)\n",
    "    \n",
    " \n",
    "    compound_score = sentiment_scores['compound']\n",
    "\n",
    "    # Check for emojis in text\n",
    "    detected_emojis = [char for char in text if char in emoji_sentiments]\n",
    "    \n",
    "    # Adjust compound score based on detected emojis\n",
    "    for em in detected_emojis:\n",
    "        compound_score += emoji_sentiments[em]\n",
    "    \n",
    "    # Normalize compound score within [-1, 1]\n",
    "    compound_score = max(-1, min(1, compound_score))\n",
    "\n",
    "   \n",
    "    if compound_score >= 0.05:\n",
    "        result_emoji = \"😊\"\n",
    "    elif compound_score <= -0.05:\n",
    "        result_emoji = \"😞\"\n",
    "    else:\n",
    "        result_emoji = \"😐\"\n",
    "\n",
    "    return sentiment_scores, detected_emojis, compound_score, result_emoji\n",
    "\n",
    "\n",
    "poem_text = \"I love India 😊, but I hate corruption 😡. And I strongly believe that the situation will improve with the new generation.\"\n",
    "\n",
    "\n",
    "sentiment_scores, detected_emojis, adjusted_score, result_emoji = analyze_sentiment(poem_text)\n",
    "\n",
    "# Display results\n",
    "print(\"Sentiment Analysis Result:\", sentiment_scores)\n",
    "print(\"Detected Emojis:\", detected_emojis)\n",
    "print(\"Adjusted Compound Score:\", adjusted_score, result_emoji)"
   ]
  },
  {
   "cell_type": "code",
   "execution_count": null,
   "metadata": {},
   "outputs": [],
   "source": []
  }
 ],
 "metadata": {
  "kernelspec": {
   "display_name": "Python 3",
   "language": "python",
   "name": "python3"
  },
  "language_info": {
   "codemirror_mode": {
    "name": "ipython",
    "version": 3
   },
   "file_extension": ".py",
   "mimetype": "text/x-python",
   "name": "python",
   "nbconvert_exporter": "python",
   "pygments_lexer": "ipython3",
   "version": "3.11.0"
  }
 },
 "nbformat": 4,
 "nbformat_minor": 2
}
